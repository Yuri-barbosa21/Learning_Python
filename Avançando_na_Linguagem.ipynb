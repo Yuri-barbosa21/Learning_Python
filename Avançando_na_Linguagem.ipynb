{
  "nbformat": 4,
  "nbformat_minor": 0,
  "metadata": {
    "colab": {
      "provenance": [],
      "authorship_tag": "ABX9TyORZlKfFJ265xSfEmsafcIS",
      "include_colab_link": true
    },
    "kernelspec": {
      "name": "python3",
      "display_name": "Python 3"
    },
    "language_info": {
      "name": "python"
    }
  },
  "cells": [
    {
      "cell_type": "markdown",
      "metadata": {
        "id": "view-in-github",
        "colab_type": "text"
      },
      "source": [
        "<a href=\"https://colab.research.google.com/github/Yuri-barbosa21/Learning_Python/blob/main/Avan%C3%A7ando_na_Linguagem.ipynb\" target=\"_parent\"><img src=\"https://colab.research.google.com/assets/colab-badge.svg\" alt=\"Open In Colab\"/></a>"
      ]
    },
    {
      "cell_type": "markdown",
      "source": [
        "# **Preparando o jogo da forca**"
      ],
      "metadata": {
        "id": "5tAkjGyR6py2"
      }
    },
    {
      "cell_type": "code",
      "execution_count": null,
      "metadata": {
        "id": "r5a8xrzn6ezy"
      },
      "outputs": [],
      "source": [
        "print(\"********************************************\")\n",
        "print(\"*********BEM-VINDO AO JOGO DA FORCA*********\")\n",
        "print(\"********************************************\")\n",
        "\n",
        "acertou = False\n",
        "enforcou = False\n",
        "\n",
        "while (not acertou and not enforcou):\n",
        "    print(\"Jogando...\")\n",
        "\n",
        "print(\"Fim do jogo!\")"
      ]
    },
    {
      "cell_type": "markdown",
      "source": [
        "# **Manipulando Strings**"
      ],
      "metadata": {
        "id": "JFIa7Gjt6w4t"
      }
    },
    {
      "cell_type": "code",
      "source": [
        "print(\"********************************************\")\n",
        "print(\"*********BEM-VINDO AO JOGO DA FORCA*********\")\n",
        "print(\"********************************************\\n\")\n",
        "\n",
        "palavra_secreta = \"banana\"\n",
        "acertou = False\n",
        "enforcou = False\n",
        "\n",
        "while (not acertou and not enforcou):\n",
        "    \n",
        "    chute = input(\"Escolha uma letra: \")\n",
        "    chute = chute.strip()\n",
        "\n",
        "    i = 0;\n",
        "\n",
        "    for letra in palavra_secreta:\n",
        "        if (chute.upper() == letra.upper()):\n",
        "            print(\"Encontrei a letra {} na posição {}\".format(chute, i))\n",
        "        i += 1\n",
        "\n",
        "print(\"Fim do jogo!\")"
      ],
      "metadata": {
        "id": "ZsUg_mfl7ZLU"
      },
      "execution_count": null,
      "outputs": []
    },
    {
      "cell_type": "markdown",
      "source": [
        "# **Conhecendo e Trabalhando com Listas**"
      ],
      "metadata": {
        "id": "vKfb6jZe64_F"
      }
    },
    {
      "cell_type": "code",
      "source": [
        "print(\"********************************************\")\n",
        "print(\"*********BEM-VINDO AO JOGO DA FORCA*********\")\n",
        "print(\"********************************************\\n\")\n",
        "\n",
        "palavra_secreta = \"banana\"\n",
        "letras_acertadas = [\"_\",\"_\",\"_\",\"_\",\"_\",\"_\",]\n",
        "\n",
        "acertou = False\n",
        "enforcou = False\n",
        "\n",
        "while (not acertou and not enforcou):\n",
        "    \n",
        "    print(letras_acertadas)\n",
        "    chute = input(\"Escolha uma letra: \")\n",
        "\n",
        "    i = 0;\n",
        "    for letra in palavra_secreta:\n",
        "        if (chute == letra):\n",
        "            letras_acertadas[i] = letra;\n",
        "        i += 1\n",
        "\n",
        "print(\"Fim do jogo!\")"
      ],
      "metadata": {
        "id": "_sLZky3Q7WBs"
      },
      "execution_count": null,
      "outputs": []
    },
    {
      "cell_type": "markdown",
      "source": [
        "# **Conhecendo e Trabalhando com Tuplas**"
      ],
      "metadata": {
        "id": "HD2GWHum68ks"
      }
    },
    {
      "cell_type": "code",
      "source": [
        "print(\"********************************************\")\n",
        "print(\"*********BEM-VINDO AO JOGO DA FORCA*********\")\n",
        "print(\"********************************************\\n\")\n",
        "\n",
        "palavra_secreta = \"banana\"\n",
        "letras_acertadas = [\"_\",\"_\",\"_\",\"_\",\"_\",\"_\",]\n",
        "\n",
        "acertou = False\n",
        "enforcou = False\n",
        "\n",
        "while (not acertou and not enforcou):\n",
        "    \n",
        "    print(letras_acertadas)\n",
        "    chute = input(\"Escolha uma letra: \")\n",
        "\n",
        "    i = 0;\n",
        "    for letra in palavra_secreta:\n",
        "        if (chute == letra):\n",
        "            letras_acertadas[i] = letra;\n",
        "        i += 1\n",
        "\n",
        "print(\"Fim do jogo!\")"
      ],
      "metadata": {
        "id": "u5VLIOz97Wjt"
      },
      "execution_count": null,
      "outputs": []
    },
    {
      "cell_type": "markdown",
      "source": [
        "# **Implementando o Encerramento do Jogo**"
      ],
      "metadata": {
        "id": "qCxu3TGp7AfF"
      }
    },
    {
      "cell_type": "code",
      "source": [],
      "metadata": {
        "id": "2GmTrov47W_9"
      },
      "execution_count": null,
      "outputs": []
    },
    {
      "cell_type": "markdown",
      "source": [
        "# **Escrita e Leitura de Arquivos**"
      ],
      "metadata": {
        "id": "RPMGr3n07LKN"
      }
    },
    {
      "cell_type": "code",
      "source": [],
      "metadata": {
        "id": "X_E0tYe37XjP"
      },
      "execution_count": null,
      "outputs": []
    },
    {
      "cell_type": "markdown",
      "source": [
        "# **Melhorando o Código e a Apresentação**"
      ],
      "metadata": {
        "id": "lkNHAy4J7PRs"
      }
    },
    {
      "cell_type": "code",
      "source": [],
      "metadata": {
        "id": "hYU0Tvil7YFo"
      },
      "execution_count": null,
      "outputs": []
    }
  ]
}